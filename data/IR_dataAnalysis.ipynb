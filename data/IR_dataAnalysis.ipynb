{
  "nbformat": 4,
  "nbformat_minor": 0,
  "metadata": {
    "colab": {
      "provenance": []
    },
    "kernelspec": {
      "name": "python3",
      "display_name": "Python 3"
    },
    "language_info": {
      "name": "python"
    }
  },
  "cells": [
    {
      "cell_type": "code",
      "source": [
        "import pandas as pd\n",
        "import numpy as np\n",
        "import seaborn as sb\n",
        "import requests\n",
        "import matplotlib.pyplot as plt"
      ],
      "metadata": {
        "id": "XBJTXDkuUcEF"
      },
      "execution_count": null,
      "outputs": []
    },
    {
      "cell_type": "code",
      "source": [
        "redditcomments_df = pd.read_csv('/content/reddit_analysis.csv') # read in csv file"
      ],
      "metadata": {
        "id": "YkhtX_39UfpD"
      },
      "execution_count": null,
      "outputs": []
    },
    {
      "cell_type": "code",
      "source": [
        "print(\"Number of useless comments: \", (redditcomments_df['to remove useless comment \\n(0: useful \\n1: useless)'] == 1).sum()) # get count of num of useless data"
      ],
      "metadata": {
        "id": "YiCAVAJCU28q",
        "colab": {
          "base_uri": "https://localhost:8080/"
        },
        "outputId": "51d0d0f5-8512-43f6-cd3d-815d72ede8bb"
      },
      "execution_count": null,
      "outputs": [
        {
          "output_type": "stream",
          "name": "stdout",
          "text": [
            "Number of useless comments:  1362\n"
          ]
        }
      ]
    },
    {
      "cell_type": "code",
      "source": [
        "# drop all rows of data marked as useless\n",
        "usefulRedditcomments = redditcomments_df[redditcomments_df['to remove useless comment \\n(0: useful \\n1: useless)'] != 1].reset_index(drop=True)\n",
        "usefulRedditcomments"
      ],
      "metadata": {
        "id": "VS6pb5c3UlyN"
      },
      "execution_count": null,
      "outputs": []
    },
    {
      "cell_type": "code",
      "source": [
        "# drop unlabelled rows of data\n",
        "usefulRedditcomments = usefulRedditcomments.dropna(subset=['subjectivity \\n{0: neutral,1\\n: subjective}']).reset_index(drop=True)\n",
        "# separate neutral from subjective commments\n",
        "sentimentRedditcomments = usefulRedditcomments[usefulRedditcomments['subjectivity \\n{0: neutral,1\\n: subjective}'] == 1].reset_index(drop=True) "
      ],
      "metadata": {
        "id": "vUJpckGVX4IG"
      },
      "execution_count": null,
      "outputs": []
    },
    {
      "cell_type": "code",
      "source": [
        "usefulRedditcomments['subjectivity \\n{0: neutral,1\\n: subjective}'].value_counts()"
      ],
      "metadata": {
        "id": "ENW-5cDsfncO"
      },
      "execution_count": null,
      "outputs": []
    },
    {
      "cell_type": "code",
      "source": [
        "sentimentRedditcomments['polarity \\n{0: negative, \\n1: positive}'].value_counts()"
      ],
      "metadata": {
        "id": "adpAHwPwk3WZ",
        "colab": {
          "base_uri": "https://localhost:8080/"
        },
        "outputId": "0a02d545-9561-47f8-bf23-3e97149c57a9"
      },
      "execution_count": null,
      "outputs": [
        {
          "output_type": "execute_result",
          "data": {
            "text/plain": [
              "1.0    528\n",
              "0.0    432\n",
              "Name: polarity \\n{0: negative, \\n1: positive}, dtype: int64"
            ]
          },
          "metadata": {},
          "execution_count": 8
        }
      ]
    },
    {
      "cell_type": "code",
      "source": [
        "fig, ax = plt.subplots(1,2)\n",
        "fig.set_figheight(15)\n",
        "fig.set_figwidth(15)\n",
        "\n",
        "sb.countplot(x=usefulRedditcomments[\"subjectivity \\n{0: neutral,1\\n: subjective}\"], ax=ax[0])\n",
        "sb.countplot(x=sentimentRedditcomments[\"polarity \\n{0: negative, \\n1: positive}\"], ax=ax[1])"
      ],
      "metadata": {
        "id": "Ai2w3i8YfmWU"
      },
      "execution_count": null,
      "outputs": []
    },
    {
      "cell_type": "markdown",
      "source": [
        "# senticAPI"
      ],
      "metadata": {
        "id": "UKzZZUKcMatd"
      }
    },
    {
      "cell_type": "code",
      "source": [
        "usefulRedditcomments = usefulRedditcomments.replace(r'\\r+|\\n+|\\t+','', regex=True) # remove \\n's"
      ],
      "metadata": {
        "id": "EotQWX-DgTK2"
      },
      "execution_count": null,
      "outputs": []
    },
    {
      "cell_type": "code",
      "source": [
        "illegalSenticChars = ['&', '#', ';', '{', '}'] \n",
        "\n",
        "for c in illegalSenticChars:\n",
        "  usefulRedditcomments['body'] = usefulRedditcomments[\"body\"].str.replace(c,\"\")"
      ],
      "metadata": {
        "colab": {
          "base_uri": "https://localhost:8080/"
        },
        "id": "CXg7_7iNg3FB",
        "outputId": "12bb343c-a2a0-4264-a519-fa366ce7892b"
      },
      "execution_count": null,
      "outputs": [
        {
          "output_type": "stream",
          "name": "stderr",
          "text": [
            "<ipython-input-111-268c83f7c336>:4: FutureWarning: The default value of regex will change from True to False in a future version. In addition, single character regular expressions will *not* be treated as literal strings when regex=True.\n",
            "  usefulRedditcomments['body'] = usefulRedditcomments[\"body\"].str.replace(c,\"\")\n"
          ]
        }
      ]
    },
    {
      "cell_type": "code",
      "source": [
        "subjectivity = []\n",
        "for text_ in usefulRedditcomments['body']:\n",
        "  URL = \"http://sentic.net/api/en/7bLlqPJJ5u6skskoWLC.py?text=\" + text_\n",
        "  page = requests.get(URL)\n",
        "  subjectivity.append(page.text.replace('\\n','')) # remove \\n's"
      ],
      "metadata": {
        "id": "HIxAIU-Md1B3"
      },
      "execution_count": null,
      "outputs": []
    },
    {
      "cell_type": "code",
      "source": [
        "sb.countplot(x=subjectivity)"
      ],
      "metadata": {
        "colab": {
          "base_uri": "https://localhost:8080/",
          "height": 283
        },
        "id": "7iVnvxv4d3lZ",
        "outputId": "05fa1542-88d5-4963-f71c-0e0ea835bb46"
      },
      "execution_count": null,
      "outputs": [
        {
          "output_type": "execute_result",
          "data": {
            "text/plain": [
              "<AxesSubplot:ylabel='count'>"
            ]
          },
          "metadata": {},
          "execution_count": 117
        },
        {
          "output_type": "display_data",
          "data": {
            "text/plain": [
              "<Figure size 432x288 with 1 Axes>"
            ],
            "image/png": "[encoded data removed]"
          },
          "metadata": {
            "needs_background": "light"
          }
        }
      ]
    },
    {
      "cell_type": "code",
      "source": [
        "URL = \"http://sentic.net/api/en/vcDLt0xjUXnNBd.py?text=\" + text_\n",
        "page = requests.get(URL)\n",
        "page.text"
      ],
      "metadata": {
        "colab": {
          "base_uri": "https://localhost:8080/",
          "height": 36
        },
        "id": "E9Kks12Do2qs",
        "outputId": "d4d7bb88-5bbe-4998-85a3-b100da426274"
      },
      "execution_count": null,
      "outputs": [
        {
          "output_type": "execute_result",
          "data": {
            "text/plain": [
              "'0%\\n'"
            ],
            "application/vnd.google.colaboratory.intrinsic+json": {
              "type": "string"
            }
          },
          "metadata": {},
          "execution_count": 120
        }
      ]
    },
    {
      "cell_type": "code",
      "source": [
        "usefulRedditcomments['senticSubjectivity'] = subjectivity"
      ],
      "metadata": {
        "id": "qBo0XLZMo7zy"
      },
      "execution_count": null,
      "outputs": []
    },
    {
      "cell_type": "code",
      "source": [
        "usefulRedditcomments['subjectivity \\n{0: neutral,1\\n: subjective}'] == 0"
      ],
      "metadata": {
        "colab": {
          "base_uri": "https://localhost:8080/"
        },
        "id": "DNE_0tFJ1DAf",
        "outputId": "0783b020-6de2-4855-d0f2-1ed88e6789fb"
      },
      "execution_count": null,
      "outputs": [
        {
          "output_type": "execute_result",
          "data": {
            "text/plain": [
              "0        True\n",
              "1       False\n",
              "2       False\n",
              "3       False\n",
              "4       False\n",
              "        ...  \n",
              "2134     True\n",
              "2135    False\n",
              "2136    False\n",
              "2137    False\n",
              "2138    False\n",
              "Name: subjectivity \\n{0: neutral,1\\n: subjective}, Length: 2139, dtype: bool"
            ]
          },
          "metadata": {},
          "execution_count": 132
        }
      ]
    },
    {
      "cell_type": "code",
      "source": [
        "sentiment = []\n",
        "for i, text_ in enumerate(usefulRedditcomments['body']):\n",
        "  URL = \"http://sentic.net/api/en/HgA8p0lSLC37bfs.py?text=\" + text_\n",
        "  page = requests.get(URL)\n",
        "  sentiment.append(page.text.replace('\\n','')) # remove \\n's"
      ],
      "metadata": {
        "id": "we43eQHV0Uau"
      },
      "execution_count": null,
      "outputs": []
    },
    {
      "cell_type": "code",
      "source": [
        "sb.countplot(x=sentiment)"
      ],
      "metadata": {
        "colab": {
          "base_uri": "https://localhost:8080/",
          "height": 283
        },
        "id": "d7KHmd7a5y65",
        "outputId": "9dad0c13-06e5-41de-894f-16ceaae1d7e0"
      },
      "execution_count": null,
      "outputs": [
        {
          "output_type": "execute_result",
          "data": {
            "text/plain": [
              "<AxesSubplot:ylabel='count'>"
            ]
          },
          "metadata": {},
          "execution_count": 135
        },
        {
          "output_type": "display_data",
          "data": {
            "text/plain": [
              "<Figure size 432x288 with 1 Axes>"
            ],
            "image/png": "[encoded data removed]"
          },
          "metadata": {
            "needs_background": "light"
          }
        }
      ]
    },
    {
      "cell_type": "code",
      "source": [
        "usefulRedditcomments['senticSentiment'] = sentiment"
      ],
      "metadata": {
        "id": "MWXMyZLd535f"
      },
      "execution_count": null,
      "outputs": []
    }
  ]
}