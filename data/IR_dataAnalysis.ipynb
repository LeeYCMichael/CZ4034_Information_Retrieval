{
  "nbformat": 4,
  "nbformat_minor": 0,
  "metadata": {
    "colab": {
      "provenance": []
    },
    "kernelspec": {
      "name": "python3",
      "display_name": "Python 3"
    },
    "language_info": {
      "name": "python"
    }
  },
  "cells": [
    {
      "cell_type": "code",
      "execution_count": 71,
      "metadata": {
        "id": "YV7Sp6tOUJfS"
      },
      "outputs": [],
      "source": [
        "!cp /content/drive/MyDrive/reddit_analysis.csv -d /content"
      ]
    },
    {
      "cell_type": "code",
      "source": [
        "import pandas as pd\n",
        "import numpy as np\n",
        "import seaborn as sb\n",
        "import matplotlib.pyplot as plt"
      ],
      "metadata": {
        "id": "XBJTXDkuUcEF"
      },
      "execution_count": 69,
      "outputs": []
    },
    {
      "cell_type": "code",
      "source": [
        "redditcomments_df = pd.read_csv('/content/reddit_analysis.csv') # replace with csv file"
      ],
      "metadata": {
        "id": "YkhtX_39UfpD"
      },
      "execution_count": 92,
      "outputs": []
    },
    {
      "cell_type": "code",
      "source": [
        "print(\"Number of useless comments: \", (redditcomments_df['to remove useless comment \\n(0: useful \\n1: useless)'] == 1).sum()) # get count of num of useless data"
      ],
      "metadata": {
        "id": "YiCAVAJCU28q"
      },
      "execution_count": null,
      "outputs": []
    },
    {
      "cell_type": "code",
      "source": [
        "# drop all rows of data marked as useless\n",
        "usefulRedditcomments = redditcomments_df[redditcomments_df['to remove useless comment \\n(0: useful \\n1: useless)'] != 1].reset_index(drop=True)\n",
        "usefulRedditcomments"
      ],
      "metadata": {
        "id": "VS6pb5c3UlyN"
      },
      "execution_count": null,
      "outputs": []
    },
    {
      "cell_type": "code",
      "source": [
        "# drop unlabelled rows of data\n",
        "usefulRedditcomments = usefulRedditcomments.dropna(subset=['subjectivity \\n{0: neutral,1\\n: subjective}']).reset_index(drop=True)\n",
        "# separate neutral from subjective commments\n",
        "sentimentRedditcomments = usefulRedditcomments[usefulRedditcomments['subjectivity \\n{0: neutral,1\\n: subjective}'] == 1].reset_index(drop=True) "
      ],
      "metadata": {
        "id": "vUJpckGVX4IG"
      },
      "execution_count": 95,
      "outputs": []
    },
    {
      "cell_type": "code",
      "source": [
        "usefulRedditcomments['subjectivity \\n{0: neutral,1\\n: subjective}'].value_counts()"
      ],
      "metadata": {
        "id": "ENW-5cDsfncO"
      },
      "execution_count": null,
      "outputs": []
    },
    {
      "cell_type": "code",
      "source": [
        "sentimentRedditcomments['polarity \\n{0: negative, \\n1: positive}'].value_counts()"
      ],
      "metadata": {
        "id": "adpAHwPwk3WZ"
      },
      "execution_count": null,
      "outputs": []
    },
    {
      "cell_type": "code",
      "source": [
        "fig, ax = plt.subplots(1,2)\n",
        "fig.set_figheight(15)\n",
        "fig.set_figwidth(15)\n",
        "\n",
        "sb.countplot(x=usefulRedditcomments[\"subjectivity \\n{0: neutral,1\\n: subjective}\"], ax=ax[0])\n",
        "sb.countplot(x=sentimentRedditcomments[\"polarity \\n{0: negative, \\n1: positive}\"], ax=ax[1])"
      ],
      "metadata": {
        "id": "Ai2w3i8YfmWU"
      },
      "execution_count": null,
      "outputs": []
    }
  ]
}