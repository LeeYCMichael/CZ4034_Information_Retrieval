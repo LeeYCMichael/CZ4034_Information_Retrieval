{
 "cells": [
  {
   "cell_type": "code",
   "execution_count": 1,
   "id": "92851961",
   "metadata": {},
   "outputs": [],
   "source": [
    "import pandas as pd\n",
    "import numpy as np\n",
    "import matplotlib.pyplot as plt\n",
    "import seaborn as sns\n",
    "import re\n",
    "import nltk\n",
    "from nltk.corpus import stopwords\n",
    "\n",
    "from numpy import array\n",
    "from keras.preprocessing.text import one_hot\n",
    "from tensorflow.keras.preprocessing.sequence import pad_sequences\n",
    "from keras.models import Sequential\n",
    "from keras.layers.core import Activation, Dropout, Dense\n",
    "from keras.layers import Flatten\n",
    "from keras.layers import GlobalMaxPooling1D, Conv1D, LSTM\n",
    "from tensorflow.keras.layers import Embedding\n",
    "from sklearn.model_selection import train_test_split\n",
    "from keras.preprocessing.text import Tokenizer\n",
    "\n",
    "from sklearn.metrics import accuracy_score, classification_report, confusion_matrix, f1_score\n",
    "from tensorflow.keras.utils import to_categorical \n",
    "import collections\n",
    "\n",
    "import time"
   ]
  },
  {
   "cell_type": "code",
   "execution_count": 2,
   "id": "df6bbb2c",
   "metadata": {},
   "outputs": [],
   "source": [
    "df = pd.read_csv('movieCorpus.csv')"
   ]
  },
  {
   "cell_type": "code",
   "execution_count": 3,
   "id": "a6eb1e39",
   "metadata": {},
   "outputs": [
    {
     "data": {
      "text/html": [
       "<div>\n",
       "<style scoped>\n",
       "    .dataframe tbody tr th:only-of-type {\n",
       "        vertical-align: middle;\n",
       "    }\n",
       "\n",
       "    .dataframe tbody tr th {\n",
       "        vertical-align: top;\n",
       "    }\n",
       "\n",
       "    .dataframe thead th {\n",
       "        text-align: right;\n",
       "    }\n",
       "</style>\n",
       "<table border=\"1\" class=\"dataframe\">\n",
       "  <thead>\n",
       "    <tr style=\"text-align: right;\">\n",
       "      <th></th>\n",
       "      <th>Unnamed: 0</th>\n",
       "      <th>movie_name</th>\n",
       "      <th>genre</th>\n",
       "      <th>original_language</th>\n",
       "      <th>popularity</th>\n",
       "      <th>release_date</th>\n",
       "      <th>vote_average</th>\n",
       "      <th>revenue</th>\n",
       "      <th>runtime</th>\n",
       "      <th>author</th>\n",
       "      <th>...</th>\n",
       "      <th>link_id</th>\n",
       "      <th>utc_datetime</th>\n",
       "      <th>body</th>\n",
       "      <th>Annotator1_Subjective</th>\n",
       "      <th>Annotator1_Polarity</th>\n",
       "      <th>Annotator2_Subjective</th>\n",
       "      <th>Annotator2_Polarity</th>\n",
       "      <th>Test</th>\n",
       "      <th>Auto_labeller_eval_subj</th>\n",
       "      <th>Auto_labeller_eval_pol</th>\n",
       "    </tr>\n",
       "  </thead>\n",
       "  <tbody>\n",
       "    <tr>\n",
       "      <th>0</th>\n",
       "      <td>0</td>\n",
       "      <td>The Wolf of Snow Hollow</td>\n",
       "      <td>Horror, Thriller</td>\n",
       "      <td>en</td>\n",
       "      <td>61.224</td>\n",
       "      <td>10/23/2020</td>\n",
       "      <td>6.1</td>\n",
       "      <td>239828</td>\n",
       "      <td>84</td>\n",
       "      <td>languinomaedtro</td>\n",
       "      <td>...</td>\n",
       "      <td>t3_vcginw</td>\n",
       "      <td>2022-06-15T00:00:00Z</td>\n",
       "      <td>The Wolf of snow hollow</td>\n",
       "      <td>None</td>\n",
       "      <td>None</td>\n",
       "      <td>None</td>\n",
       "      <td>None</td>\n",
       "      <td>0</td>\n",
       "      <td>OBJECTIVE</td>\n",
       "      <td>None</td>\n",
       "    </tr>\n",
       "    <tr>\n",
       "      <th>1</th>\n",
       "      <td>1</td>\n",
       "      <td>Borat Subsequent Moviefilm</td>\n",
       "      <td>Comedy</td>\n",
       "      <td>en</td>\n",
       "      <td>26.738</td>\n",
       "      <td>10/23/2020</td>\n",
       "      <td>6.5</td>\n",
       "      <td>0</td>\n",
       "      <td>96</td>\n",
       "      <td>extremelyhonesthou</td>\n",
       "      <td>...</td>\n",
       "      <td>t3_mykx8t</td>\n",
       "      <td>2021-04-26T00:00:00Z</td>\n",
       "      <td>What are we? Some kind of Borat Subsequent Mov...</td>\n",
       "      <td>None</td>\n",
       "      <td>None</td>\n",
       "      <td>None</td>\n",
       "      <td>None</td>\n",
       "      <td>0</td>\n",
       "      <td>OBJECTIVE</td>\n",
       "      <td>None</td>\n",
       "    </tr>\n",
       "    <tr>\n",
       "      <th>2</th>\n",
       "      <td>2</td>\n",
       "      <td>Level One</td>\n",
       "      <td>Adventure</td>\n",
       "      <td>en</td>\n",
       "      <td>17.256</td>\n",
       "      <td>1/20/2021</td>\n",
       "      <td>6.3</td>\n",
       "      <td>0</td>\n",
       "      <td>23</td>\n",
       "      <td>throwaway112112312</td>\n",
       "      <td>...</td>\n",
       "      <td>t3_hszwbj</td>\n",
       "      <td>2020-07-18T00:00:00Z</td>\n",
       "      <td>I love Yojimbo but Harakiri is on another leve...</td>\n",
       "      <td>None</td>\n",
       "      <td>None</td>\n",
       "      <td>None</td>\n",
       "      <td>None</td>\n",
       "      <td>0</td>\n",
       "      <td>OBJECTIVE</td>\n",
       "      <td>None</td>\n",
       "    </tr>\n",
       "    <tr>\n",
       "      <th>3</th>\n",
       "      <td>3</td>\n",
       "      <td>Gretel &amp; Hansel</td>\n",
       "      <td>Horror, Fantasy, Thriller</td>\n",
       "      <td>en</td>\n",
       "      <td>22.828</td>\n",
       "      <td>1/30/2020</td>\n",
       "      <td>6.1</td>\n",
       "      <td>22059211</td>\n",
       "      <td>87</td>\n",
       "      <td>mmmyesplease---</td>\n",
       "      <td>...</td>\n",
       "      <td>t3_yg0oab</td>\n",
       "      <td>2022-10-29T00:00:00Z</td>\n",
       "      <td>They were just treasures we found at libraries...</td>\n",
       "      <td>None</td>\n",
       "      <td>None</td>\n",
       "      <td>None</td>\n",
       "      <td>None</td>\n",
       "      <td>0</td>\n",
       "      <td>OBJECTIVE</td>\n",
       "      <td>None</td>\n",
       "    </tr>\n",
       "    <tr>\n",
       "      <th>4</th>\n",
       "      <td>4</td>\n",
       "      <td>47 Meters Down: Uncaged</td>\n",
       "      <td>Horror, Drama, Adventure</td>\n",
       "      <td>en</td>\n",
       "      <td>16.081</td>\n",
       "      <td>8/15/2019</td>\n",
       "      <td>5.7</td>\n",
       "      <td>0</td>\n",
       "      <td>90</td>\n",
       "      <td>had0ukenn</td>\n",
       "      <td>...</td>\n",
       "      <td>t3_pehuql</td>\n",
       "      <td>2021-08-30T00:00:00Z</td>\n",
       "      <td>This is directed by Johannes Roberts who direc...</td>\n",
       "      <td>None</td>\n",
       "      <td>None</td>\n",
       "      <td>None</td>\n",
       "      <td>None</td>\n",
       "      <td>0</td>\n",
       "      <td>OBJECTIVE</td>\n",
       "      <td>None</td>\n",
       "    </tr>\n",
       "    <tr>\n",
       "      <th>...</th>\n",
       "      <td>...</td>\n",
       "      <td>...</td>\n",
       "      <td>...</td>\n",
       "      <td>...</td>\n",
       "      <td>...</td>\n",
       "      <td>...</td>\n",
       "      <td>...</td>\n",
       "      <td>...</td>\n",
       "      <td>...</td>\n",
       "      <td>...</td>\n",
       "      <td>...</td>\n",
       "      <td>...</td>\n",
       "      <td>...</td>\n",
       "      <td>...</td>\n",
       "      <td>...</td>\n",
       "      <td>...</td>\n",
       "      <td>...</td>\n",
       "      <td>...</td>\n",
       "      <td>...</td>\n",
       "      <td>...</td>\n",
       "      <td>...</td>\n",
       "    </tr>\n",
       "    <tr>\n",
       "      <th>21649</th>\n",
       "      <td>21649</td>\n",
       "      <td>The Beta Test</td>\n",
       "      <td>Comedy, Mystery, Thriller, Horror</td>\n",
       "      <td>en</td>\n",
       "      <td>30.294</td>\n",
       "      <td>10/15/2021</td>\n",
       "      <td>5.8</td>\n",
       "      <td>0</td>\n",
       "      <td>93</td>\n",
       "      <td>SpecialistTax6798</td>\n",
       "      <td>...</td>\n",
       "      <td>t3_xla7w0</td>\n",
       "      <td>2022-09-22T00:00:00Z</td>\n",
       "      <td>Recently I quite enjoyed The Beta Test.</td>\n",
       "      <td>SUBJECTIVE</td>\n",
       "      <td>POSITIVE</td>\n",
       "      <td>OBJECTIVE</td>\n",
       "      <td>None</td>\n",
       "      <td>1</td>\n",
       "      <td>OBJECTIVE</td>\n",
       "      <td>None</td>\n",
       "    </tr>\n",
       "    <tr>\n",
       "      <th>21650</th>\n",
       "      <td>21650</td>\n",
       "      <td>Promising Young Woman</td>\n",
       "      <td>Thriller, Crime, Drama</td>\n",
       "      <td>en</td>\n",
       "      <td>36.116</td>\n",
       "      <td>12/13/2020</td>\n",
       "      <td>7.6</td>\n",
       "      <td>13868965</td>\n",
       "      <td>114</td>\n",
       "      <td>Naweezy</td>\n",
       "      <td>...</td>\n",
       "      <td>t3_10k68y9</td>\n",
       "      <td>2023-01-24T00:00:00Z</td>\n",
       "      <td>Carey Mulligan shouldve have won that yr for P...</td>\n",
       "      <td>SUBJECTIVE</td>\n",
       "      <td>POSITIVE</td>\n",
       "      <td>OBJECTIVE</td>\n",
       "      <td>None</td>\n",
       "      <td>1</td>\n",
       "      <td>OBJECTIVE</td>\n",
       "      <td>None</td>\n",
       "    </tr>\n",
       "    <tr>\n",
       "      <th>21651</th>\n",
       "      <td>21651</td>\n",
       "      <td>The Green Knight</td>\n",
       "      <td>Adventure, Drama, Fantasy</td>\n",
       "      <td>en</td>\n",
       "      <td>197.458</td>\n",
       "      <td>7/29/2021</td>\n",
       "      <td>6.7</td>\n",
       "      <td>18192220</td>\n",
       "      <td>130</td>\n",
       "      <td>Naweezy</td>\n",
       "      <td>...</td>\n",
       "      <td>t3_104tjjk</td>\n",
       "      <td>2023-01-06T00:00:00Z</td>\n",
       "      <td>His wife Alicia Vikander should be in more mov...</td>\n",
       "      <td>SUBJECTIVE</td>\n",
       "      <td>NEUTRAL</td>\n",
       "      <td>OBJECTIVE</td>\n",
       "      <td>None</td>\n",
       "      <td>1</td>\n",
       "      <td>OBJECTIVE</td>\n",
       "      <td>None</td>\n",
       "    </tr>\n",
       "    <tr>\n",
       "      <th>21652</th>\n",
       "      <td>21652</td>\n",
       "      <td>Those Who Wish Me Dead</td>\n",
       "      <td>Thriller</td>\n",
       "      <td>en</td>\n",
       "      <td>130.330</td>\n",
       "      <td>2021-05-05T00:00:00Z</td>\n",
       "      <td>7.0</td>\n",
       "      <td>23384502</td>\n",
       "      <td>100</td>\n",
       "      <td>thejugglar</td>\n",
       "      <td>...</td>\n",
       "      <td>t3_vm8u6d</td>\n",
       "      <td>2022-06-28T00:00:00Z</td>\n",
       "      <td>He played an ex military hit man in \"Those who...</td>\n",
       "      <td>SUBJECTIVE</td>\n",
       "      <td>NEUTRAL</td>\n",
       "      <td>OBJECTIVE</td>\n",
       "      <td>None</td>\n",
       "      <td>1</td>\n",
       "      <td>OBJECTIVE</td>\n",
       "      <td>None</td>\n",
       "    </tr>\n",
       "    <tr>\n",
       "      <th>21653</th>\n",
       "      <td>21653</td>\n",
       "      <td>Black Adam</td>\n",
       "      <td>Action, Fantasy, Adventure</td>\n",
       "      <td>en</td>\n",
       "      <td>14.386</td>\n",
       "      <td>2022-07-27T00:00:00Z</td>\n",
       "      <td>0.0</td>\n",
       "      <td>0</td>\n",
       "      <td>0</td>\n",
       "      <td>woyzeckspeas</td>\n",
       "      <td>...</td>\n",
       "      <td>t3_10vjapy</td>\n",
       "      <td>2023-02-07T00:00:00Z</td>\n",
       "      <td>Batman &amp;amp; Robin has more personality in a s...</td>\n",
       "      <td>SUBJECTIVE</td>\n",
       "      <td>NEUTRAL</td>\n",
       "      <td>OBJECTIVE</td>\n",
       "      <td>None</td>\n",
       "      <td>1</td>\n",
       "      <td>OBJECTIVE</td>\n",
       "      <td>None</td>\n",
       "    </tr>\n",
       "  </tbody>\n",
       "</table>\n",
       "<p>21654 rows × 21 columns</p>\n",
       "</div>"
      ],
      "text/plain": [
       "       Unnamed: 0                  movie_name  \\\n",
       "0               0     The Wolf of Snow Hollow   \n",
       "1               1  Borat Subsequent Moviefilm   \n",
       "2               2                   Level One   \n",
       "3               3             Gretel & Hansel   \n",
       "4               4     47 Meters Down: Uncaged   \n",
       "...           ...                         ...   \n",
       "21649       21649               The Beta Test   \n",
       "21650       21650       Promising Young Woman   \n",
       "21651       21651            The Green Knight   \n",
       "21652       21652      Those Who Wish Me Dead   \n",
       "21653       21653                  Black Adam   \n",
       "\n",
       "                                   genre original_language  popularity  \\\n",
       "0                       Horror, Thriller                en      61.224   \n",
       "1                                 Comedy                en      26.738   \n",
       "2                              Adventure                en      17.256   \n",
       "3              Horror, Fantasy, Thriller                en      22.828   \n",
       "4               Horror, Drama, Adventure                en      16.081   \n",
       "...                                  ...               ...         ...   \n",
       "21649  Comedy, Mystery, Thriller, Horror                en      30.294   \n",
       "21650             Thriller, Crime, Drama                en      36.116   \n",
       "21651          Adventure, Drama, Fantasy                en     197.458   \n",
       "21652                           Thriller                en     130.330   \n",
       "21653         Action, Fantasy, Adventure                en      14.386   \n",
       "\n",
       "               release_date  vote_average   revenue  runtime  \\\n",
       "0                10/23/2020           6.1    239828       84   \n",
       "1                10/23/2020           6.5         0       96   \n",
       "2                 1/20/2021           6.3         0       23   \n",
       "3                 1/30/2020           6.1  22059211       87   \n",
       "4                 8/15/2019           5.7         0       90   \n",
       "...                     ...           ...       ...      ...   \n",
       "21649            10/15/2021           5.8         0       93   \n",
       "21650            12/13/2020           7.6  13868965      114   \n",
       "21651             7/29/2021           6.7  18192220      130   \n",
       "21652  2021-05-05T00:00:00Z           7.0  23384502      100   \n",
       "21653  2022-07-27T00:00:00Z           0.0         0        0   \n",
       "\n",
       "                   author  ...     link_id          utc_datetime  \\\n",
       "0         languinomaedtro  ...   t3_vcginw  2022-06-15T00:00:00Z   \n",
       "1      extremelyhonesthou  ...   t3_mykx8t  2021-04-26T00:00:00Z   \n",
       "2      throwaway112112312  ...   t3_hszwbj  2020-07-18T00:00:00Z   \n",
       "3         mmmyesplease---  ...   t3_yg0oab  2022-10-29T00:00:00Z   \n",
       "4               had0ukenn  ...   t3_pehuql  2021-08-30T00:00:00Z   \n",
       "...                   ...  ...         ...                   ...   \n",
       "21649   SpecialistTax6798  ...   t3_xla7w0  2022-09-22T00:00:00Z   \n",
       "21650             Naweezy  ...  t3_10k68y9  2023-01-24T00:00:00Z   \n",
       "21651             Naweezy  ...  t3_104tjjk  2023-01-06T00:00:00Z   \n",
       "21652          thejugglar  ...   t3_vm8u6d  2022-06-28T00:00:00Z   \n",
       "21653        woyzeckspeas  ...  t3_10vjapy  2023-02-07T00:00:00Z   \n",
       "\n",
       "                                                    body  \\\n",
       "0                                The Wolf of snow hollow   \n",
       "1      What are we? Some kind of Borat Subsequent Mov...   \n",
       "2      I love Yojimbo but Harakiri is on another leve...   \n",
       "3      They were just treasures we found at libraries...   \n",
       "4      This is directed by Johannes Roberts who direc...   \n",
       "...                                                  ...   \n",
       "21649            Recently I quite enjoyed The Beta Test.   \n",
       "21650  Carey Mulligan shouldve have won that yr for P...   \n",
       "21651  His wife Alicia Vikander should be in more mov...   \n",
       "21652  He played an ex military hit man in \"Those who...   \n",
       "21653  Batman &amp; Robin has more personality in a s...   \n",
       "\n",
       "      Annotator1_Subjective Annotator1_Polarity Annotator2_Subjective  \\\n",
       "0                      None                None                  None   \n",
       "1                      None                None                  None   \n",
       "2                      None                None                  None   \n",
       "3                      None                None                  None   \n",
       "4                      None                None                  None   \n",
       "...                     ...                 ...                   ...   \n",
       "21649            SUBJECTIVE            POSITIVE             OBJECTIVE   \n",
       "21650            SUBJECTIVE            POSITIVE             OBJECTIVE   \n",
       "21651            SUBJECTIVE             NEUTRAL             OBJECTIVE   \n",
       "21652            SUBJECTIVE             NEUTRAL             OBJECTIVE   \n",
       "21653            SUBJECTIVE             NEUTRAL             OBJECTIVE   \n",
       "\n",
       "      Annotator2_Polarity Test  Auto_labeller_eval_subj Auto_labeller_eval_pol  \n",
       "0                    None    0                OBJECTIVE                   None  \n",
       "1                    None    0                OBJECTIVE                   None  \n",
       "2                    None    0                OBJECTIVE                   None  \n",
       "3                    None    0                OBJECTIVE                   None  \n",
       "4                    None    0                OBJECTIVE                   None  \n",
       "...                   ...  ...                      ...                    ...  \n",
       "21649                None    1                OBJECTIVE                   None  \n",
       "21650                None    1                OBJECTIVE                   None  \n",
       "21651                None    1                OBJECTIVE                   None  \n",
       "21652                None    1                OBJECTIVE                   None  \n",
       "21653                None    1                OBJECTIVE                   None  \n",
       "\n",
       "[21654 rows x 21 columns]"
      ]
     },
     "execution_count": 3,
     "metadata": {},
     "output_type": "execute_result"
    }
   ],
   "source": [
    "df"
   ]
  },
  {
   "cell_type": "code",
   "execution_count": 4,
   "id": "96035e48",
   "metadata": {},
   "outputs": [
    {
     "data": {
      "text/html": [
       "<div>\n",
       "<style scoped>\n",
       "    .dataframe tbody tr th:only-of-type {\n",
       "        vertical-align: middle;\n",
       "    }\n",
       "\n",
       "    .dataframe tbody tr th {\n",
       "        vertical-align: top;\n",
       "    }\n",
       "\n",
       "    .dataframe thead th {\n",
       "        text-align: right;\n",
       "    }\n",
       "</style>\n",
       "<table border=\"1\" class=\"dataframe\">\n",
       "  <thead>\n",
       "    <tr style=\"text-align: right;\">\n",
       "      <th></th>\n",
       "      <th>Unnamed: 0</th>\n",
       "      <th>movie_name</th>\n",
       "      <th>genre</th>\n",
       "      <th>original_language</th>\n",
       "      <th>popularity</th>\n",
       "      <th>release_date</th>\n",
       "      <th>vote_average</th>\n",
       "      <th>revenue</th>\n",
       "      <th>runtime</th>\n",
       "      <th>author</th>\n",
       "      <th>...</th>\n",
       "      <th>link_id</th>\n",
       "      <th>utc_datetime</th>\n",
       "      <th>body</th>\n",
       "      <th>Annotator1_Subjective</th>\n",
       "      <th>Annotator1_Polarity</th>\n",
       "      <th>Annotator2_Subjective</th>\n",
       "      <th>Annotator2_Polarity</th>\n",
       "      <th>test</th>\n",
       "      <th>subj</th>\n",
       "      <th>pol</th>\n",
       "    </tr>\n",
       "  </thead>\n",
       "  <tbody>\n",
       "    <tr>\n",
       "      <th>0</th>\n",
       "      <td>0</td>\n",
       "      <td>The Wolf of Snow Hollow</td>\n",
       "      <td>Horror, Thriller</td>\n",
       "      <td>en</td>\n",
       "      <td>61.224</td>\n",
       "      <td>10/23/2020</td>\n",
       "      <td>6.1</td>\n",
       "      <td>239828</td>\n",
       "      <td>84</td>\n",
       "      <td>languinomaedtro</td>\n",
       "      <td>...</td>\n",
       "      <td>t3_vcginw</td>\n",
       "      <td>2022-06-15T00:00:00Z</td>\n",
       "      <td>The Wolf of snow hollow</td>\n",
       "      <td>None</td>\n",
       "      <td>None</td>\n",
       "      <td>None</td>\n",
       "      <td>None</td>\n",
       "      <td>0</td>\n",
       "      <td>OBJECTIVE</td>\n",
       "      <td>None</td>\n",
       "    </tr>\n",
       "    <tr>\n",
       "      <th>1</th>\n",
       "      <td>1</td>\n",
       "      <td>Borat Subsequent Moviefilm</td>\n",
       "      <td>Comedy</td>\n",
       "      <td>en</td>\n",
       "      <td>26.738</td>\n",
       "      <td>10/23/2020</td>\n",
       "      <td>6.5</td>\n",
       "      <td>0</td>\n",
       "      <td>96</td>\n",
       "      <td>extremelyhonesthou</td>\n",
       "      <td>...</td>\n",
       "      <td>t3_mykx8t</td>\n",
       "      <td>2021-04-26T00:00:00Z</td>\n",
       "      <td>What are we? Some kind of Borat Subsequent Mov...</td>\n",
       "      <td>None</td>\n",
       "      <td>None</td>\n",
       "      <td>None</td>\n",
       "      <td>None</td>\n",
       "      <td>0</td>\n",
       "      <td>OBJECTIVE</td>\n",
       "      <td>None</td>\n",
       "    </tr>\n",
       "    <tr>\n",
       "      <th>2</th>\n",
       "      <td>2</td>\n",
       "      <td>Level One</td>\n",
       "      <td>Adventure</td>\n",
       "      <td>en</td>\n",
       "      <td>17.256</td>\n",
       "      <td>1/20/2021</td>\n",
       "      <td>6.3</td>\n",
       "      <td>0</td>\n",
       "      <td>23</td>\n",
       "      <td>throwaway112112312</td>\n",
       "      <td>...</td>\n",
       "      <td>t3_hszwbj</td>\n",
       "      <td>2020-07-18T00:00:00Z</td>\n",
       "      <td>I love Yojimbo but Harakiri is on another leve...</td>\n",
       "      <td>None</td>\n",
       "      <td>None</td>\n",
       "      <td>None</td>\n",
       "      <td>None</td>\n",
       "      <td>0</td>\n",
       "      <td>OBJECTIVE</td>\n",
       "      <td>None</td>\n",
       "    </tr>\n",
       "    <tr>\n",
       "      <th>3</th>\n",
       "      <td>3</td>\n",
       "      <td>Gretel &amp; Hansel</td>\n",
       "      <td>Horror, Fantasy, Thriller</td>\n",
       "      <td>en</td>\n",
       "      <td>22.828</td>\n",
       "      <td>1/30/2020</td>\n",
       "      <td>6.1</td>\n",
       "      <td>22059211</td>\n",
       "      <td>87</td>\n",
       "      <td>mmmyesplease---</td>\n",
       "      <td>...</td>\n",
       "      <td>t3_yg0oab</td>\n",
       "      <td>2022-10-29T00:00:00Z</td>\n",
       "      <td>They were just treasures we found at libraries...</td>\n",
       "      <td>None</td>\n",
       "      <td>None</td>\n",
       "      <td>None</td>\n",
       "      <td>None</td>\n",
       "      <td>0</td>\n",
       "      <td>OBJECTIVE</td>\n",
       "      <td>None</td>\n",
       "    </tr>\n",
       "    <tr>\n",
       "      <th>4</th>\n",
       "      <td>4</td>\n",
       "      <td>47 Meters Down: Uncaged</td>\n",
       "      <td>Horror, Drama, Adventure</td>\n",
       "      <td>en</td>\n",
       "      <td>16.081</td>\n",
       "      <td>8/15/2019</td>\n",
       "      <td>5.7</td>\n",
       "      <td>0</td>\n",
       "      <td>90</td>\n",
       "      <td>had0ukenn</td>\n",
       "      <td>...</td>\n",
       "      <td>t3_pehuql</td>\n",
       "      <td>2021-08-30T00:00:00Z</td>\n",
       "      <td>This is directed by Johannes Roberts who direc...</td>\n",
       "      <td>None</td>\n",
       "      <td>None</td>\n",
       "      <td>None</td>\n",
       "      <td>None</td>\n",
       "      <td>0</td>\n",
       "      <td>OBJECTIVE</td>\n",
       "      <td>None</td>\n",
       "    </tr>\n",
       "  </tbody>\n",
       "</table>\n",
       "<p>5 rows × 21 columns</p>\n",
       "</div>"
      ],
      "text/plain": [
       "   Unnamed: 0                  movie_name                      genre  \\\n",
       "0           0     The Wolf of Snow Hollow           Horror, Thriller   \n",
       "1           1  Borat Subsequent Moviefilm                     Comedy   \n",
       "2           2                   Level One                  Adventure   \n",
       "3           3             Gretel & Hansel  Horror, Fantasy, Thriller   \n",
       "4           4     47 Meters Down: Uncaged   Horror, Drama, Adventure   \n",
       "\n",
       "  original_language  popularity release_date  vote_average   revenue  runtime  \\\n",
       "0                en      61.224   10/23/2020           6.1    239828       84   \n",
       "1                en      26.738   10/23/2020           6.5         0       96   \n",
       "2                en      17.256    1/20/2021           6.3         0       23   \n",
       "3                en      22.828    1/30/2020           6.1  22059211       87   \n",
       "4                en      16.081    8/15/2019           5.7         0       90   \n",
       "\n",
       "               author  ...    link_id          utc_datetime  \\\n",
       "0     languinomaedtro  ...  t3_vcginw  2022-06-15T00:00:00Z   \n",
       "1  extremelyhonesthou  ...  t3_mykx8t  2021-04-26T00:00:00Z   \n",
       "2  throwaway112112312  ...  t3_hszwbj  2020-07-18T00:00:00Z   \n",
       "3     mmmyesplease---  ...  t3_yg0oab  2022-10-29T00:00:00Z   \n",
       "4           had0ukenn  ...  t3_pehuql  2021-08-30T00:00:00Z   \n",
       "\n",
       "                                                body Annotator1_Subjective  \\\n",
       "0                            The Wolf of snow hollow                  None   \n",
       "1  What are we? Some kind of Borat Subsequent Mov...                  None   \n",
       "2  I love Yojimbo but Harakiri is on another leve...                  None   \n",
       "3  They were just treasures we found at libraries...                  None   \n",
       "4  This is directed by Johannes Roberts who direc...                  None   \n",
       "\n",
       "  Annotator1_Polarity Annotator2_Subjective Annotator2_Polarity test  \\\n",
       "0                None                  None                None    0   \n",
       "1                None                  None                None    0   \n",
       "2                None                  None                None    0   \n",
       "3                None                  None                None    0   \n",
       "4                None                  None                None    0   \n",
       "\n",
       "        subj   pol  \n",
       "0  OBJECTIVE  None  \n",
       "1  OBJECTIVE  None  \n",
       "2  OBJECTIVE  None  \n",
       "3  OBJECTIVE  None  \n",
       "4  OBJECTIVE  None  \n",
       "\n",
       "[5 rows x 21 columns]"
      ]
     },
     "execution_count": 4,
     "metadata": {},
     "output_type": "execute_result"
    }
   ],
   "source": [
    "# Rename columns\n",
    "new_col_name = {\n",
    "                \"Auto_labeller_eval_subj\": \"subj\",\n",
    "                \"Auto_labeller_eval_pol\": \"pol\",\n",
    "                \"Test\":\"test\"\n",
    "               }\n",
    "df = df.rename(columns=new_col_name)\n",
    "df.head()"
   ]
  },
  {
   "cell_type": "code",
   "execution_count": 5,
   "id": "05d43845",
   "metadata": {},
   "outputs": [
    {
     "data": {
      "text/html": [
       "<div>\n",
       "<style scoped>\n",
       "    .dataframe tbody tr th:only-of-type {\n",
       "        vertical-align: middle;\n",
       "    }\n",
       "\n",
       "    .dataframe tbody tr th {\n",
       "        vertical-align: top;\n",
       "    }\n",
       "\n",
       "    .dataframe thead th {\n",
       "        text-align: right;\n",
       "    }\n",
       "</style>\n",
       "<table border=\"1\" class=\"dataframe\">\n",
       "  <thead>\n",
       "    <tr style=\"text-align: right;\">\n",
       "      <th></th>\n",
       "      <th>body</th>\n",
       "      <th>test</th>\n",
       "      <th>subj</th>\n",
       "      <th>pol</th>\n",
       "    </tr>\n",
       "  </thead>\n",
       "  <tbody>\n",
       "    <tr>\n",
       "      <th>0</th>\n",
       "      <td>The Wolf of snow hollow</td>\n",
       "      <td>0</td>\n",
       "      <td>OBJECTIVE</td>\n",
       "      <td>None</td>\n",
       "    </tr>\n",
       "    <tr>\n",
       "      <th>1</th>\n",
       "      <td>What are we? Some kind of Borat Subsequent Mov...</td>\n",
       "      <td>0</td>\n",
       "      <td>OBJECTIVE</td>\n",
       "      <td>None</td>\n",
       "    </tr>\n",
       "    <tr>\n",
       "      <th>2</th>\n",
       "      <td>I love Yojimbo but Harakiri is on another leve...</td>\n",
       "      <td>0</td>\n",
       "      <td>OBJECTIVE</td>\n",
       "      <td>None</td>\n",
       "    </tr>\n",
       "    <tr>\n",
       "      <th>3</th>\n",
       "      <td>They were just treasures we found at libraries...</td>\n",
       "      <td>0</td>\n",
       "      <td>OBJECTIVE</td>\n",
       "      <td>None</td>\n",
       "    </tr>\n",
       "    <tr>\n",
       "      <th>4</th>\n",
       "      <td>This is directed by Johannes Roberts who direc...</td>\n",
       "      <td>0</td>\n",
       "      <td>OBJECTIVE</td>\n",
       "      <td>None</td>\n",
       "    </tr>\n",
       "  </tbody>\n",
       "</table>\n",
       "</div>"
      ],
      "text/plain": [
       "                                                body  test       subj   pol\n",
       "0                            The Wolf of snow hollow     0  OBJECTIVE  None\n",
       "1  What are we? Some kind of Borat Subsequent Mov...     0  OBJECTIVE  None\n",
       "2  I love Yojimbo but Harakiri is on another leve...     0  OBJECTIVE  None\n",
       "3  They were just treasures we found at libraries...     0  OBJECTIVE  None\n",
       "4  This is directed by Johannes Roberts who direc...     0  OBJECTIVE  None"
      ]
     },
     "execution_count": 5,
     "metadata": {},
     "output_type": "execute_result"
    }
   ],
   "source": [
    "#Keep only relevant columns\n",
    "keep_col = ['body', 'test', 'subj', 'pol']\n",
    "df = df[keep_col]\n",
    "\n",
    "df.head()"
   ]
  },
  {
   "cell_type": "code",
   "execution_count": 6,
   "id": "5eeedb46",
   "metadata": {},
   "outputs": [],
   "source": [
    "train = df.loc[df['test'] == 0]\n",
    "test = df.loc[df['test'] == 1]"
   ]
  },
  {
   "cell_type": "code",
   "execution_count": 7,
   "id": "b9d7049a",
   "metadata": {},
   "outputs": [
    {
     "data": {
      "text/plain": [
       "(19489, 4)"
      ]
     },
     "execution_count": 7,
     "metadata": {},
     "output_type": "execute_result"
    }
   ],
   "source": [
    "train.shape"
   ]
  },
  {
   "cell_type": "code",
   "execution_count": 8,
   "id": "3330a8df",
   "metadata": {},
   "outputs": [
    {
     "data": {
      "text/plain": [
       "(2165, 4)"
      ]
     },
     "execution_count": 8,
     "metadata": {},
     "output_type": "execute_result"
    }
   ],
   "source": [
    "test.shape"
   ]
  },
  {
   "cell_type": "markdown",
   "id": "f439d516",
   "metadata": {},
   "source": [
    "# Data Processing"
   ]
  },
  {
   "cell_type": "code",
   "execution_count": 9,
   "id": "ff46946d",
   "metadata": {},
   "outputs": [],
   "source": [
    "def preprocess_text(sen):\n",
    "    # Removing html tags\n",
    "    sentence = remove_tags(sen)\n",
    "\n",
    "    # Remove punctuations and numbers\n",
    "    sentence = re.sub('[^a-zA-Z]', ' ', sentence)\n",
    "\n",
    "    # Single character removal\n",
    "    sentence = re.sub(r\"\\s+[a-zA-Z]\\s+\", ' ', sentence)\n",
    "\n",
    "    # Removing multiple spaces\n",
    "    sentence = re.sub(r'\\s+', ' ', sentence)\n",
    "\n",
    "    return sentence"
   ]
  },
  {
   "cell_type": "code",
   "execution_count": 10,
   "id": "95476779",
   "metadata": {},
   "outputs": [],
   "source": [
    "# remove any sort of remaining tags\n",
    "TAG_RE = re.compile(r'<[^>]+>')\n",
    "\n",
    "def remove_tags(text):\n",
    "    return TAG_RE.sub('', text)"
   ]
  },
  {
   "cell_type": "code",
   "execution_count": 11,
   "id": "00fdaabc",
   "metadata": {},
   "outputs": [],
   "source": [
    "train_X_subj = []\n",
    "sentences = list(train['body'])\n",
    "for sen in sentences:\n",
    "    train_X_subj.append(preprocess_text(sen))\n",
    "\n",
    "test_X_subj = []\n",
    "sentences = list(test['body'])\n",
    "for sen in sentences:\n",
    "    test_X_subj.append(preprocess_text(sen))\n",
    "    \n",
    "train_y_subj = train['subj']\n",
    "test_y_subj = test['subj']"
   ]
  },
  {
   "cell_type": "code",
   "execution_count": 12,
   "id": "a3eac693",
   "metadata": {},
   "outputs": [],
   "source": [
    "def change_subj_labels(data):\n",
    "    #classification\n",
    "    #group = {-1:0, 0:1, 1:2}\n",
    "    group_subj = {\"OBJECTIVE\":0, \"SUBJECTIVE\":1}\n",
    "    data = data.apply(lambda x: group_subj[x])\n",
    "    return data\n",
    "train_y_subj = change_subj_labels(train_y_subj).values\n",
    "test_y_subj = change_subj_labels(test_y_subj).values"
   ]
  },
  {
   "cell_type": "code",
   "execution_count": 13,
   "id": "88a0ad92",
   "metadata": {},
   "outputs": [],
   "source": [
    "train_pol = train.loc[train['subj'] == \"SUBJECTIVE\"]\n",
    "test_pol = test.loc[test['subj'] == \"SUBJECTIVE\"]"
   ]
  },
  {
   "cell_type": "code",
   "execution_count": 14,
   "id": "07f936ac",
   "metadata": {},
   "outputs": [],
   "source": [
    "train_X_pol = []\n",
    "sentences = list(train_pol['body'])\n",
    "for sen in sentences:\n",
    "    train_X_pol.append(preprocess_text(sen))\n",
    "\n",
    "test_X_pol = []\n",
    "sentences = list(test_pol['body'])\n",
    "for sen in sentences:\n",
    "    test_X_pol.append(preprocess_text(sen))\n",
    "    \n",
    "train_y_pol = train_pol['pol']\n",
    "test_y_pol = test_pol['pol']"
   ]
  },
  {
   "cell_type": "code",
   "execution_count": 15,
   "id": "09c55a3b",
   "metadata": {},
   "outputs": [],
   "source": [
    "def change_pol_labels(data):\n",
    "    #classification\n",
    "    #group = {-1:0, 0:1, 1:2}\n",
    "    group_pol = {\"NEGATIVE\":0, \"NEUTRAL\":1, \"POSITIVE\":2}\n",
    "    data = data.apply(lambda x: group_pol[x])\n",
    "    return data\n",
    "train_y_pol = change_pol_labels(train_y_pol).values\n",
    "test_y_pol = change_pol_labels(test_y_pol).values"
   ]
  },
  {
   "cell_type": "markdown",
   "id": "2da4db7a",
   "metadata": {},
   "source": [
    "# Word embedding with GloVe from Stanford "
   ]
  },
  {
   "cell_type": "code",
   "execution_count": 16,
   "id": "cf29e5f5",
   "metadata": {},
   "outputs": [],
   "source": [
    "tokenizer = Tokenizer(num_words=1000) # Total number of words to be considered in the tokenizer, changeable\n",
    "tokenizer.fit_on_texts(train_X_subj)\n",
    "\n",
    "train_X_subj = tokenizer.texts_to_sequences(train_X_subj)\n",
    "test_X_subj = tokenizer.texts_to_sequences(test_X_subj)"
   ]
  },
  {
   "cell_type": "code",
   "execution_count": 17,
   "id": "b6abd1b5",
   "metadata": {},
   "outputs": [],
   "source": [
    "# Adding 1 because of reserved 0 index\n",
    "vocab_size = len(tokenizer.word_index) + 1\n",
    "\n",
    "maxlen = 100 # Max length to consider in a single review, changeable\n",
    "\n",
    "train_X_subj = pad_sequences(train_X_subj, padding='post', maxlen=maxlen)\n",
    "test_X_subj = pad_sequences(test_X_subj, padding='post', maxlen=maxlen)"
   ]
  },
  {
   "cell_type": "code",
   "execution_count": 18,
   "id": "c970f8ba",
   "metadata": {},
   "outputs": [],
   "source": [
    "import os\n",
    "from numpy import array\n",
    "from numpy import asarray\n",
    "from numpy import zeros\n",
    "\n",
    "embeddings_dictionary = dict()\n",
    "\n",
    "# Get the current working directory\n",
    "cwd = os.getcwd()\n",
    "\n",
    "# Define the relative path to the file\n",
    "file_path = \"glove.6B.100d.txt\"\n",
    "\n",
    "# Join the paths to create the full file path\n",
    "full_path = os.path.join(cwd, file_path)\n",
    "\n",
    "# Open the file using the full path\n",
    "glove_file = open(full_path, encoding=\"utf8\")\n",
    "\n",
    "for line in glove_file:\n",
    "    records = line.split()\n",
    "    word = records[0]\n",
    "    vector_dimensions = asarray(records[1:], dtype='float32')\n",
    "    embeddings_dictionary [word] = vector_dimensions\n",
    "glove_file.close()"
   ]
  },
  {
   "cell_type": "code",
   "execution_count": 19,
   "id": "deffc9cf",
   "metadata": {},
   "outputs": [],
   "source": [
    "embedding_matrix = zeros((vocab_size, 100))\n",
    "for word, index in tokenizer.word_index.items():\n",
    "    embedding_vector = embeddings_dictionary.get(word)\n",
    "    if embedding_vector is not None:\n",
    "        embedding_matrix[index] = embedding_vector"
   ]
  },
  {
   "cell_type": "code",
   "execution_count": 20,
   "id": "00944ecf",
   "metadata": {},
   "outputs": [],
   "source": [
    "tokenizer1 = Tokenizer(num_words=1000) # Total number of words to be considered in the tokenizer, changeable\n",
    "tokenizer1.fit_on_texts(train_X_pol)\n",
    "train_X_pol = tokenizer1.texts_to_sequences(train_X_pol)\n",
    "test_X_pol = tokenizer1.texts_to_sequences(test_X_pol)\n",
    "\n",
    "vocab_size1 = len(tokenizer1.word_index) + 1\n",
    "\n",
    "maxlen = 100 # Max length to consider in a single review, changeable\n",
    "\n",
    "train_X_pol = pad_sequences(train_X_pol, padding='post', maxlen=maxlen)\n",
    "test_X_pol = pad_sequences(test_X_pol, padding='post', maxlen=maxlen)\n",
    "\n",
    "embedding_matrix1 = zeros((vocab_size1, 100))\n",
    "for word, index in tokenizer1.word_index.items():\n",
    "    embedding_vector1 = embeddings_dictionary.get(word)\n",
    "    if embedding_vector1 is not None:\n",
    "        embedding_matrix1[index] = embedding_vector1"
   ]
  },
  {
   "cell_type": "markdown",
   "id": "0f310d59",
   "metadata": {},
   "source": [
    "# Testing using Simple Neural Network"
   ]
  },
  {
   "cell_type": "code",
   "execution_count": 21,
   "id": "7589c1e8",
   "metadata": {},
   "outputs": [],
   "source": [
    "def f1_score_func(preds, labels):\n",
    "    preds_flat = np.argmax(preds, axis=1).flatten()\n",
    "    labels_flat = labels.flatten()\n",
    "    return f1_score(labels_flat, preds_flat, average = 'weighted')\n",
    "\n",
    "def accuracy_pol(preds, labels):\n",
    "    label_dict_inverse = {0: \"Negative\", 2: \"Positive\", 1: \"Neutral\"}\n",
    "    \n",
    "    preds_flat = np.argmax(preds, axis=1).flatten()\n",
    "    labels_flat = labels.flatten()\n",
    "    \n",
    "    for label in np.unique(labels_flat):\n",
    "        y_preds = preds_flat[labels_flat==label]\n",
    "        y_true = labels_flat[labels_flat==label]\n",
    "        print(f'Class: {label_dict_inverse[label]}')\n",
    "        print(f'Accuracy:{len(y_preds[y_preds==label])}/{len(y_true)}\\n')\n",
    "        \n",
    "def accuracy_subj(preds, labels):\n",
    "    label_dict_inverse = {0: \"Objective\", 1: \"Subjective\"}\n",
    "    \n",
    "    preds_flat = np.argmax(preds, axis=1).flatten()\n",
    "    labels_flat = labels.flatten()\n",
    "    \n",
    "    for label in np.unique(labels_flat):\n",
    "        y_preds = preds_flat[labels_flat==label]\n",
    "        y_true = labels_flat[labels_flat==label]\n",
    "        print(f'Class: {label_dict_inverse[label]}')\n",
    "        print(f'Accuracy:{len(y_preds[y_preds==label])}/{len(y_true)}\\n')"
   ]
  },
  {
   "cell_type": "code",
   "execution_count": 22,
   "id": "d7fe93d4",
   "metadata": {},
   "outputs": [],
   "source": [
    "train_y_subj = to_categorical(train_y_subj)\n",
    "test_y_subj = to_categorical(test_y_subj)"
   ]
  },
  {
   "cell_type": "code",
   "execution_count": 23,
   "id": "670ebe98",
   "metadata": {},
   "outputs": [],
   "source": [
    "model = Sequential()\n",
    "embedding_layer = Embedding(vocab_size, 100, weights=[embedding_matrix], input_length=maxlen , trainable=False)\n",
    "model.add(embedding_layer)\n",
    "\n",
    "model.add(Flatten())\n",
    "model.add(Dense(2, activation='softmax'))"
   ]
  },
  {
   "cell_type": "code",
   "execution_count": 24,
   "id": "3397a719",
   "metadata": {},
   "outputs": [
    {
     "name": "stdout",
     "output_type": "stream",
     "text": [
      "Model: \"sequential\"\n",
      "_________________________________________________________________\n",
      "Layer (type)                 Output Shape              Param #   \n",
      "=================================================================\n",
      "embedding (Embedding)        (None, 100, 100)          2890200   \n",
      "_________________________________________________________________\n",
      "flatten (Flatten)            (None, 10000)             0         \n",
      "_________________________________________________________________\n",
      "dense (Dense)                (None, 2)                 20002     \n",
      "=================================================================\n",
      "Total params: 2,910,202\n",
      "Trainable params: 20,002\n",
      "Non-trainable params: 2,890,200\n",
      "_________________________________________________________________\n",
      "None\n"
     ]
    }
   ],
   "source": [
    "model.compile(optimizer='adam', loss='categorical_crossentropy', metrics=['acc'])\n",
    "\n",
    "print(model.summary())"
   ]
  },
  {
   "cell_type": "code",
   "execution_count": 25,
   "id": "094113d1",
   "metadata": {},
   "outputs": [
    {
     "name": "stdout",
     "output_type": "stream",
     "text": [
      "Epoch 1/20\n",
      "63/63 [==============================] - 1s 11ms/step - loss: 0.7119 - acc: 0.5787 - val_loss: 0.4927 - val_acc: 0.8004\n",
      "Epoch 2/20\n",
      "63/63 [==============================] - 1s 9ms/step - loss: 0.6138 - acc: 0.6715 - val_loss: 0.4948 - val_acc: 0.7753\n",
      "Epoch 3/20\n",
      "63/63 [==============================] - 1s 8ms/step - loss: 0.5813 - acc: 0.7001 - val_loss: 0.5987 - val_acc: 0.6609\n",
      "Epoch 4/20\n",
      "63/63 [==============================] - 1s 9ms/step - loss: 0.5555 - acc: 0.7207 - val_loss: 0.5173 - val_acc: 0.7512\n",
      "Epoch 5/20\n",
      "63/63 [==============================] - 1s 8ms/step - loss: 0.5355 - acc: 0.7359 - val_loss: 0.5907 - val_acc: 0.6868\n",
      "Epoch 6/20\n",
      "63/63 [==============================] - 0s 8ms/step - loss: 0.5187 - acc: 0.7484 - val_loss: 0.5425 - val_acc: 0.7237\n",
      "Epoch 7/20\n",
      "63/63 [==============================] - 0s 8ms/step - loss: 0.5061 - acc: 0.7592 - val_loss: 0.5593 - val_acc: 0.7142\n",
      "Epoch 8/20\n",
      "63/63 [==============================] - 1s 9ms/step - loss: 0.4984 - acc: 0.7639 - val_loss: 0.5868 - val_acc: 0.6965\n",
      "Epoch 9/20\n",
      "63/63 [==============================] - 1s 8ms/step - loss: 0.4847 - acc: 0.7727 - val_loss: 0.5620 - val_acc: 0.7227\n",
      "Epoch 10/20\n",
      "63/63 [==============================] - 1s 9ms/step - loss: 0.4742 - acc: 0.7815 - val_loss: 0.7378 - val_acc: 0.5967\n",
      "Epoch 11/20\n",
      "63/63 [==============================] - 1s 9ms/step - loss: 0.4708 - acc: 0.7788 - val_loss: 0.7044 - val_acc: 0.6380\n",
      "Epoch 12/20\n",
      "63/63 [==============================] - 1s 9ms/step - loss: 0.4617 - acc: 0.7846 - val_loss: 0.6281 - val_acc: 0.6924\n",
      "Epoch 13/20\n",
      "63/63 [==============================] - 1s 9ms/step - loss: 0.4584 - acc: 0.7876 - val_loss: 0.6112 - val_acc: 0.7042\n",
      "Epoch 14/20\n",
      "63/63 [==============================] - 1s 9ms/step - loss: 0.4496 - acc: 0.7933 - val_loss: 0.6202 - val_acc: 0.6921\n",
      "Epoch 15/20\n",
      "63/63 [==============================] - 1s 10ms/step - loss: 0.4430 - acc: 0.7979 - val_loss: 0.6521 - val_acc: 0.6693\n",
      "Epoch 16/20\n",
      "63/63 [==============================] - 1s 10ms/step - loss: 0.4391 - acc: 0.8014 - val_loss: 0.6264 - val_acc: 0.6742\n",
      "Epoch 17/20\n",
      "63/63 [==============================] - 1s 10ms/step - loss: 0.4346 - acc: 0.8040 - val_loss: 0.5593 - val_acc: 0.7281\n",
      "Epoch 18/20\n",
      "63/63 [==============================] - 1s 9ms/step - loss: 0.4307 - acc: 0.8043 - val_loss: 0.7379 - val_acc: 0.6473\n",
      "Epoch 19/20\n",
      "63/63 [==============================] - 1s 10ms/step - loss: 0.4262 - acc: 0.8072 - val_loss: 0.6999 - val_acc: 0.6588\n",
      "Epoch 20/20\n",
      "63/63 [==============================] - 1s 9ms/step - loss: 0.4239 - acc: 0.8085 - val_loss: 0.6006 - val_acc: 0.7086\n"
     ]
    }
   ],
   "source": [
    "history = model.fit(train_X_subj, train_y_subj, batch_size=248, epochs=20, verbose=1, validation_split=0.2)"
   ]
  },
  {
   "cell_type": "code",
   "execution_count": 26,
   "id": "c8202f6e",
   "metadata": {},
   "outputs": [],
   "source": [
    "# score = model.evaluate(test_X_subj, test_y_subj, verbose=1)"
   ]
  },
  {
   "cell_type": "code",
   "execution_count": 27,
   "id": "0dbb2746",
   "metadata": {},
   "outputs": [],
   "source": [
    "# print(\"Test Score:\", score[0])\n",
    "# print(\"Test Accuracy:\", score[1])"
   ]
  },
  {
   "cell_type": "code",
   "execution_count": 28,
   "id": "69544ffd",
   "metadata": {},
   "outputs": [
    {
     "name": "stdout",
     "output_type": "stream",
     "text": [
      "Time taken to predict:  0.2629380226135254\n"
     ]
    }
   ],
   "source": [
    "start = time.time()\n",
    "\n",
    "subj_pred = model.predict(test_X_subj)\n",
    "\n",
    "end = time.time()\n",
    "print(\"Time taken to predict: \", end - start)"
   ]
  },
  {
   "cell_type": "code",
   "execution_count": 29,
   "id": "5abca3ec",
   "metadata": {},
   "outputs": [],
   "source": [
    "labels_subj = np.argmax(test_y_subj, axis=1).flatten()\n",
    "preds_subj = np.argmax(subj_pred, axis=1).flatten()"
   ]
  },
  {
   "cell_type": "code",
   "execution_count": 30,
   "id": "64034ec2",
   "metadata": {},
   "outputs": [
    {
     "data": {
      "text/plain": [
       "Counter({1: 1518, 0: 647})"
      ]
     },
     "execution_count": 30,
     "metadata": {},
     "output_type": "execute_result"
    }
   ],
   "source": [
    "counter = collections.Counter(labels_subj)\n",
    "counter"
   ]
  },
  {
   "cell_type": "code",
   "execution_count": 31,
   "id": "3f73325e",
   "metadata": {},
   "outputs": [
    {
     "data": {
      "text/plain": [
       "Counter({0: 704, 1: 1461})"
      ]
     },
     "execution_count": 31,
     "metadata": {},
     "output_type": "execute_result"
    }
   ],
   "source": [
    "counter = collections.Counter(preds_subj)\n",
    "counter"
   ]
  },
  {
   "cell_type": "code",
   "execution_count": 32,
   "id": "6a9eb958",
   "metadata": {},
   "outputs": [
    {
     "data": {
      "text/plain": [
       "0.7066974595842956"
      ]
     },
     "execution_count": 32,
     "metadata": {},
     "output_type": "execute_result"
    }
   ],
   "source": [
    "accuracy_score(labels_subj, preds_subj)"
   ]
  },
  {
   "cell_type": "code",
   "execution_count": 33,
   "id": "ee77db39",
   "metadata": {
    "scrolled": false
   },
   "outputs": [
    {
     "name": "stdout",
     "output_type": "stream",
     "text": [
      "              precision    recall  f1-score   support\n",
      "\n",
      "           0       0.51      0.55      0.53       647\n",
      "           1       0.80      0.77      0.79      1518\n",
      "\n",
      "    accuracy                           0.71      2165\n",
      "   macro avg       0.66      0.66      0.66      2165\n",
      "weighted avg       0.71      0.71      0.71      2165\n",
      "\n"
     ]
    }
   ],
   "source": [
    "print(classification_report(labels_subj, preds_subj))"
   ]
  },
  {
   "cell_type": "code",
   "execution_count": 34,
   "id": "078662f8",
   "metadata": {},
   "outputs": [],
   "source": [
    "# confusion_matrix(labels_subj, subj_pred)"
   ]
  },
  {
   "cell_type": "code",
   "execution_count": 35,
   "id": "0c5ba741",
   "metadata": {},
   "outputs": [
    {
     "data": {
      "text/plain": [
       "0.7100788026273954"
      ]
     },
     "execution_count": 35,
     "metadata": {},
     "output_type": "execute_result"
    }
   ],
   "source": [
    "f1_score(labels_subj, preds_subj, average = 'weighted')"
   ]
  },
  {
   "cell_type": "code",
   "execution_count": 36,
   "id": "606cc90d",
   "metadata": {},
   "outputs": [
    {
     "name": "stdout",
     "output_type": "stream",
     "text": [
      "Class: Objective\n",
      "Accuracy:358/647\n",
      "\n",
      "Class: Subjective\n",
      "Accuracy:1172/1518\n",
      "\n"
     ]
    }
   ],
   "source": [
    "accuracy_subj(subj_pred,labels_subj)"
   ]
  },
  {
   "cell_type": "code",
   "execution_count": null,
   "id": "1a7140cd",
   "metadata": {},
   "outputs": [],
   "source": []
  },
  {
   "cell_type": "code",
   "execution_count": 37,
   "id": "1d3d509d",
   "metadata": {},
   "outputs": [],
   "source": [
    "model1 = Sequential()\n",
    "embedding_layer1 = Embedding(vocab_size1, 100, weights=[embedding_matrix1], input_length=maxlen , trainable=False)\n",
    "model1.add(embedding_layer1)\n",
    "\n",
    "model1.add(Flatten())\n",
    "model1.add(Dense(3, activation='softmax'))"
   ]
  },
  {
   "cell_type": "code",
   "execution_count": 38,
   "id": "85e75115",
   "metadata": {},
   "outputs": [
    {
     "name": "stdout",
     "output_type": "stream",
     "text": [
      "Model: \"sequential_1\"\n",
      "_________________________________________________________________\n",
      "Layer (type)                 Output Shape              Param #   \n",
      "=================================================================\n",
      "embedding_1 (Embedding)      (None, 100, 100)          2340400   \n",
      "_________________________________________________________________\n",
      "flatten_1 (Flatten)          (None, 10000)             0         \n",
      "_________________________________________________________________\n",
      "dense_1 (Dense)              (None, 3)                 30003     \n",
      "=================================================================\n",
      "Total params: 2,370,403\n",
      "Trainable params: 30,003\n",
      "Non-trainable params: 2,340,400\n",
      "_________________________________________________________________\n",
      "None\n"
     ]
    }
   ],
   "source": [
    "model1.compile(optimizer='adam', loss='categorical_crossentropy', metrics=['acc'])\n",
    "\n",
    "print(model1.summary())"
   ]
  },
  {
   "cell_type": "code",
   "execution_count": 39,
   "id": "ad9f7246",
   "metadata": {},
   "outputs": [],
   "source": [
    "train_y_pol = to_categorical(train_y_pol)\n",
    "test_y_pol = to_categorical(test_y_pol)"
   ]
  },
  {
   "cell_type": "code",
   "execution_count": 40,
   "id": "fe2bad97",
   "metadata": {},
   "outputs": [
    {
     "name": "stdout",
     "output_type": "stream",
     "text": [
      "Epoch 1/20\n",
      "40/40 [==============================] - 1s 14ms/step - loss: 1.0689 - acc: 0.4572 - val_loss: 1.0336 - val_acc: 0.5004\n",
      "Epoch 2/20\n",
      "40/40 [==============================] - 0s 9ms/step - loss: 0.9213 - acc: 0.5659 - val_loss: 0.9950 - val_acc: 0.5054\n",
      "Epoch 3/20\n",
      "40/40 [==============================] - 0s 9ms/step - loss: 0.8448 - acc: 0.6262 - val_loss: 0.9844 - val_acc: 0.5326\n",
      "Epoch 4/20\n",
      "40/40 [==============================] - 0s 10ms/step - loss: 0.7971 - acc: 0.6569 - val_loss: 0.9908 - val_acc: 0.5268\n",
      "Epoch 5/20\n",
      "40/40 [==============================] - 0s 9ms/step - loss: 0.7594 - acc: 0.6823 - val_loss: 0.9786 - val_acc: 0.5305\n",
      "Epoch 6/20\n",
      "40/40 [==============================] - 0s 9ms/step - loss: 0.7268 - acc: 0.7033 - val_loss: 0.9815 - val_acc: 0.5375\n",
      "Epoch 7/20\n",
      "40/40 [==============================] - 0s 9ms/step - loss: 0.6991 - acc: 0.7143 - val_loss: 0.9828 - val_acc: 0.5326\n",
      "Epoch 8/20\n",
      "40/40 [==============================] - 0s 8ms/step - loss: 0.6771 - acc: 0.7276 - val_loss: 0.9944 - val_acc: 0.5375\n",
      "Epoch 9/20\n",
      "40/40 [==============================] - 0s 9ms/step - loss: 0.6636 - acc: 0.7336 - val_loss: 0.9915 - val_acc: 0.5400\n",
      "Epoch 10/20\n",
      "40/40 [==============================] - 0s 9ms/step - loss: 0.6413 - acc: 0.7462 - val_loss: 1.0035 - val_acc: 0.5342\n",
      "Epoch 11/20\n",
      "40/40 [==============================] - 0s 9ms/step - loss: 0.6286 - acc: 0.7531 - val_loss: 1.0612 - val_acc: 0.5363\n",
      "Epoch 12/20\n",
      "40/40 [==============================] - 0s 10ms/step - loss: 0.6231 - acc: 0.7513 - val_loss: 1.0130 - val_acc: 0.5474\n",
      "Epoch 13/20\n",
      "40/40 [==============================] - 0s 10ms/step - loss: 0.6024 - acc: 0.7640 - val_loss: 1.0203 - val_acc: 0.5375\n",
      "Epoch 14/20\n",
      "40/40 [==============================] - 0s 11ms/step - loss: 0.5887 - acc: 0.7717 - val_loss: 1.0451 - val_acc: 0.5346\n",
      "Epoch 15/20\n",
      "40/40 [==============================] - 0s 10ms/step - loss: 0.5808 - acc: 0.7731 - val_loss: 1.0379 - val_acc: 0.5313\n",
      "Epoch 16/20\n",
      "40/40 [==============================] - 0s 9ms/step - loss: 0.5670 - acc: 0.7841 - val_loss: 1.0469 - val_acc: 0.5383\n",
      "Epoch 17/20\n",
      "40/40 [==============================] - 0s 8ms/step - loss: 0.5583 - acc: 0.7854 - val_loss: 1.0590 - val_acc: 0.5437\n",
      "Epoch 18/20\n",
      "40/40 [==============================] - 0s 8ms/step - loss: 0.5500 - acc: 0.7926 - val_loss: 1.0632 - val_acc: 0.5453\n",
      "Epoch 19/20\n",
      "40/40 [==============================] - 0s 8ms/step - loss: 0.5438 - acc: 0.7918 - val_loss: 1.0645 - val_acc: 0.5326\n",
      "Epoch 20/20\n",
      "40/40 [==============================] - 0s 9ms/step - loss: 0.5369 - acc: 0.8004 - val_loss: 1.0830 - val_acc: 0.5441\n"
     ]
    }
   ],
   "source": [
    "history1 = model1.fit(train_X_pol, train_y_pol, batch_size=248, epochs=20, verbose=1, validation_split=0.2)"
   ]
  },
  {
   "cell_type": "code",
   "execution_count": 41,
   "id": "62609be1",
   "metadata": {},
   "outputs": [
    {
     "name": "stdout",
     "output_type": "stream",
     "text": [
      "48/48 [==============================] - 0s 2ms/step - loss: 1.0210 - acc: 0.5982\n"
     ]
    }
   ],
   "source": [
    "score1 = model1.evaluate(test_X_pol, test_y_pol, verbose=1)"
   ]
  },
  {
   "cell_type": "code",
   "execution_count": 42,
   "id": "08cb0097",
   "metadata": {},
   "outputs": [
    {
     "name": "stdout",
     "output_type": "stream",
     "text": [
      "Time taken to predict:  0.1412665843963623\n"
     ]
    }
   ],
   "source": [
    "start = time.time()\n",
    "\n",
    "pol_pred = model1.predict(test_X_pol)\n",
    "\n",
    "end = time.time()\n",
    "print(\"Time taken to predict: \", end - start)"
   ]
  },
  {
   "cell_type": "code",
   "execution_count": 43,
   "id": "028d46e1",
   "metadata": {},
   "outputs": [],
   "source": [
    "labels_pol = np.argmax(test_y_pol, axis=1).flatten()\n",
    "preds_pol = np.argmax(pol_pred, axis=1).flatten()"
   ]
  },
  {
   "cell_type": "code",
   "execution_count": 44,
   "id": "f820e365",
   "metadata": {},
   "outputs": [
    {
     "data": {
      "text/plain": [
       "Counter({2: 710, 1: 315, 0: 493})"
      ]
     },
     "execution_count": 44,
     "metadata": {},
     "output_type": "execute_result"
    }
   ],
   "source": [
    "counter = collections.Counter(labels_pol)\n",
    "counter"
   ]
  },
  {
   "cell_type": "code",
   "execution_count": 45,
   "id": "0c2b0222",
   "metadata": {},
   "outputs": [
    {
     "data": {
      "text/plain": [
       "Counter({2: 578, 0: 425, 1: 515})"
      ]
     },
     "execution_count": 45,
     "metadata": {},
     "output_type": "execute_result"
    }
   ],
   "source": [
    "counter = collections.Counter(preds_pol)\n",
    "counter"
   ]
  },
  {
   "cell_type": "code",
   "execution_count": 46,
   "id": "fc4f930c",
   "metadata": {},
   "outputs": [
    {
     "data": {
      "text/plain": [
       "0.5981554677206851"
      ]
     },
     "execution_count": 46,
     "metadata": {},
     "output_type": "execute_result"
    }
   ],
   "source": [
    "accuracy_score(labels_pol, preds_pol)"
   ]
  },
  {
   "cell_type": "code",
   "execution_count": 47,
   "id": "f1bf1de9",
   "metadata": {},
   "outputs": [
    {
     "name": "stdout",
     "output_type": "stream",
     "text": [
      "              precision    recall  f1-score   support\n",
      "\n",
      "           0       0.67      0.58      0.62       493\n",
      "           1       0.34      0.55      0.42       315\n",
      "           2       0.78      0.63      0.70       710\n",
      "\n",
      "    accuracy                           0.60      1518\n",
      "   macro avg       0.60      0.59      0.58      1518\n",
      "weighted avg       0.65      0.60      0.61      1518\n",
      "\n"
     ]
    }
   ],
   "source": [
    "print(classification_report(labels_pol, preds_pol))"
   ]
  },
  {
   "cell_type": "code",
   "execution_count": 48,
   "id": "f93f42a9",
   "metadata": {},
   "outputs": [],
   "source": [
    "# confusion_matrix(labels_pol, preds_pol)"
   ]
  },
  {
   "cell_type": "code",
   "execution_count": 49,
   "id": "0ef0d14d",
   "metadata": {},
   "outputs": [
    {
     "data": {
      "text/plain": [
       "0.6149630870537182"
      ]
     },
     "execution_count": 49,
     "metadata": {},
     "output_type": "execute_result"
    }
   ],
   "source": [
    "f1_score(labels_pol, preds_pol, average = 'weighted')"
   ]
  },
  {
   "cell_type": "code",
   "execution_count": 50,
   "id": "5b8f40dc",
   "metadata": {},
   "outputs": [
    {
     "name": "stdout",
     "output_type": "stream",
     "text": [
      "Class: Negative\n",
      "Accuracy:286/493\n",
      "\n",
      "Class: Neutral\n",
      "Accuracy:173/315\n",
      "\n",
      "Class: Positive\n",
      "Accuracy:449/710\n",
      "\n"
     ]
    }
   ],
   "source": [
    "accuracy_pol(pol_pred,labels_pol)"
   ]
  }
 ],
 "metadata": {
  "kernelspec": {
   "display_name": "Python 3 (ipykernel)",
   "language": "python",
   "name": "python3"
  },
  "language_info": {
   "codemirror_mode": {
    "name": "ipython",
    "version": 3
   },
   "file_extension": ".py",
   "mimetype": "text/x-python",
   "name": "python",
   "nbconvert_exporter": "python",
   "pygments_lexer": "ipython3",
   "version": "3.7.13"
  }
 },
 "nbformat": 4,
 "nbformat_minor": 5
}
